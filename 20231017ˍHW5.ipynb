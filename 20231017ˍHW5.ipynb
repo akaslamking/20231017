{
  "nbformat": 4,
  "nbformat_minor": 0,
  "metadata": {
    "colab": {
      "provenance": []
    },
    "kernelspec": {
      "name": "python3",
      "display_name": "Python 3"
    },
    "language_info": {
      "name": "python"
    }
  },
  "cells": [
    {
      "cell_type": "code",
      "execution_count": null,
      "metadata": {
        "id": "BSCh2mBAyW_z",
        "colab": {
          "base_uri": "https://localhost:8080/"
        },
        "outputId": "65c797ab-8d31-4b00-9b91-d831fd9291e9"
      },
      "outputs": [
        {
          "output_type": "stream",
          "name": "stdout",
          "text": [
            "1  3  5  7  9  11  13  15  17  \n"
          ]
        }
      ],
      "source": [
        "for a in range(1,19,2):\n",
        "  print(a, end=\"  \")\n",
        "print(\"\")"
      ]
    },
    {
      "cell_type": "code",
      "source": [
        "r=8\n",
        "k=1\n",
        "for a in range(9):\n",
        "    print((' ')*(r)+('*')*(k))\n",
        "    r=r-1\n",
        "    k=k+2\n",
        "for b in range(5):\n",
        "  print((' ')*7+('*')*3)"
      ],
      "metadata": {
        "colab": {
          "base_uri": "https://localhost:8080/"
        },
        "id": "_pfzUJT_sVAp",
        "outputId": "ab32368d-d62d-4374-bfff-b896a8ee669a"
      },
      "execution_count": null,
      "outputs": [
        {
          "output_type": "stream",
          "name": "stdout",
          "text": [
            "        *\n",
            "       ***\n",
            "      *****\n",
            "     *******\n",
            "    *********\n",
            "   ***********\n",
            "  *************\n",
            " ***************\n",
            "*****************\n",
            "       ***\n",
            "       ***\n",
            "       ***\n",
            "       ***\n",
            "       ***\n"
          ]
        }
      ]
    },
    {
      "cell_type": "code",
      "source": [
        "import random\n",
        "ans=random.sample(range(0,10),4)\n",
        "print(ans)\n",
        "num=0\n",
        "a=0\n",
        "while(a!=4):\n",
        "  a=b=n=0\n",
        "  num+=1\n",
        "  guess=list(input('輸入四個數字'))\n",
        "  if len(guess)>4:\n",
        "    print('只能輸入四位數!再輸入一次')\n",
        "    print('')\n",
        "  else:\n",
        "    for k in guess:\n",
        "      if int(guess[n])==ans[n]:\n",
        "       a+=1\n",
        "      else:\n",
        "        if int(k) in ans:\n",
        "          b+=1\n",
        "      n+=1\n",
        "    output=','.join(guess).replace(',','')\n",
        "    print(f'{output}:{a}A{b}B')\n",
        "    print('')\n",
        "print(f'答對了!總共猜了{num}次')"
      ],
      "metadata": {
        "colab": {
          "base_uri": "https://localhost:8080/"
        },
        "id": "VvsUfBfUuqbZ",
        "outputId": "00f118eb-cd90-48a2-9f68-63bde563f587"
      },
      "execution_count": null,
      "outputs": [
        {
          "output_type": "stream",
          "name": "stdout",
          "text": [
            "[6, 9, 3, 7]\n",
            "輸入四個數字6755\n",
            "6755:1A1B\n",
            "\n",
            "輸入四個數字67555\n",
            "只能輸入四位數!再輸入一次\n",
            "\n",
            "輸入四個數字6397\n",
            "6397:2A2B\n",
            "\n",
            "輸入四個數字6973\n",
            "6973:2A2B\n",
            "\n",
            "輸入四個數字6937\n",
            "6937:4A0B\n",
            "\n",
            "答對了!總共猜了4次\n"
          ]
        }
      ]
    }
  ]
}